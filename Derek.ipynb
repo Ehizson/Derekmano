{
  "nbformat": 4,
  "nbformat_minor": 0,
  "metadata": {
    "colab": {
      "provenance": []
    },
    "kernelspec": {
      "name": "python3",
      "display_name": "Python 3"
    },
    "language_info": {
      "name": "python"
    }
  },
  "cells": [
    {
      "cell_type": "markdown",
      "source": [
        "# ***DEREK-MANO LUXURY***"
      ],
      "metadata": {
        "id": "I9D5PSpbXzCH"
      }
    },
    {
      "cell_type": "markdown",
      "source": [
        "**June Sales Information**"
      ],
      "metadata": {
        "id": "33tSjyOPYDmg"
      }
    },
    {
      "cell_type": "code",
      "execution_count": 2,
      "metadata": {
        "id": "MRHPzWqK8xMC"
      },
      "outputs": [],
      "source": [
        "# importing libraries\n",
        "\n",
        "import pandas as pd\n",
        "import numpy as np\n",
        "import matplotlib.pyplot as plt\n",
        "import seaborn as sns"
      ]
    },
    {
      "cell_type": "code",
      "source": [
        "# load dataset\n",
        "\n",
        "df = pd.read_csv('/content/JUNE SALES - Sheet1.csv')\n",
        "df.head()"
      ],
      "metadata": {
        "colab": {
          "base_uri": "https://localhost:8080/",
          "height": 206
        },
        "id": "OJVv9qqt8-mY",
        "outputId": "df6acd6c-546f-4758-cb1e-d67e91c9cd1b"
      },
      "execution_count": 3,
      "outputs": [
        {
          "output_type": "execute_result",
          "data": {
            "text/plain": [
              "       Date      Name Source   Location Av/OO  Qty  Size Description      SP  \\\n",
              "0  6/1/2023  One-land     WA       Ajah    OO    1  43.0         101  16,000   \n",
              "1  6/1/2023  One-land     WA       Ajah    OO    1  43.0         103  17,000   \n",
              "2  6/1/2023  One-land     WA       Ajah    OO    2  43.0         120  58,000   \n",
              "3  6/1/2023     Brian     IG      Ikoyi    OO    1  43.0         109  16,000   \n",
              "4  6/1/2023     Faith     IG  Ijebu-ode    OO    1  43.0         109  16,000   \n",
              "\n",
              "       CP  Profit  \n",
              "0  10,379   5,621  \n",
              "1  10,379   6,621  \n",
              "2  38,230  19,770  \n",
              "3  10,379   5,621  \n",
              "4  10,379   5,621  "
            ],
            "text/html": [
              "\n",
              "  <div id=\"df-67f6fda3-91cc-49d5-842d-12c1a1336ceb\">\n",
              "    <div class=\"colab-df-container\">\n",
              "      <div>\n",
              "<style scoped>\n",
              "    .dataframe tbody tr th:only-of-type {\n",
              "        vertical-align: middle;\n",
              "    }\n",
              "\n",
              "    .dataframe tbody tr th {\n",
              "        vertical-align: top;\n",
              "    }\n",
              "\n",
              "    .dataframe thead th {\n",
              "        text-align: right;\n",
              "    }\n",
              "</style>\n",
              "<table border=\"1\" class=\"dataframe\">\n",
              "  <thead>\n",
              "    <tr style=\"text-align: right;\">\n",
              "      <th></th>\n",
              "      <th>Date</th>\n",
              "      <th>Name</th>\n",
              "      <th>Source</th>\n",
              "      <th>Location</th>\n",
              "      <th>Av/OO</th>\n",
              "      <th>Qty</th>\n",
              "      <th>Size</th>\n",
              "      <th>Description</th>\n",
              "      <th>SP</th>\n",
              "      <th>CP</th>\n",
              "      <th>Profit</th>\n",
              "    </tr>\n",
              "  </thead>\n",
              "  <tbody>\n",
              "    <tr>\n",
              "      <th>0</th>\n",
              "      <td>6/1/2023</td>\n",
              "      <td>One-land</td>\n",
              "      <td>WA</td>\n",
              "      <td>Ajah</td>\n",
              "      <td>OO</td>\n",
              "      <td>1</td>\n",
              "      <td>43.0</td>\n",
              "      <td>101</td>\n",
              "      <td>16,000</td>\n",
              "      <td>10,379</td>\n",
              "      <td>5,621</td>\n",
              "    </tr>\n",
              "    <tr>\n",
              "      <th>1</th>\n",
              "      <td>6/1/2023</td>\n",
              "      <td>One-land</td>\n",
              "      <td>WA</td>\n",
              "      <td>Ajah</td>\n",
              "      <td>OO</td>\n",
              "      <td>1</td>\n",
              "      <td>43.0</td>\n",
              "      <td>103</td>\n",
              "      <td>17,000</td>\n",
              "      <td>10,379</td>\n",
              "      <td>6,621</td>\n",
              "    </tr>\n",
              "    <tr>\n",
              "      <th>2</th>\n",
              "      <td>6/1/2023</td>\n",
              "      <td>One-land</td>\n",
              "      <td>WA</td>\n",
              "      <td>Ajah</td>\n",
              "      <td>OO</td>\n",
              "      <td>2</td>\n",
              "      <td>43.0</td>\n",
              "      <td>120</td>\n",
              "      <td>58,000</td>\n",
              "      <td>38,230</td>\n",
              "      <td>19,770</td>\n",
              "    </tr>\n",
              "    <tr>\n",
              "      <th>3</th>\n",
              "      <td>6/1/2023</td>\n",
              "      <td>Brian</td>\n",
              "      <td>IG</td>\n",
              "      <td>Ikoyi</td>\n",
              "      <td>OO</td>\n",
              "      <td>1</td>\n",
              "      <td>43.0</td>\n",
              "      <td>109</td>\n",
              "      <td>16,000</td>\n",
              "      <td>10,379</td>\n",
              "      <td>5,621</td>\n",
              "    </tr>\n",
              "    <tr>\n",
              "      <th>4</th>\n",
              "      <td>6/1/2023</td>\n",
              "      <td>Faith</td>\n",
              "      <td>IG</td>\n",
              "      <td>Ijebu-ode</td>\n",
              "      <td>OO</td>\n",
              "      <td>1</td>\n",
              "      <td>43.0</td>\n",
              "      <td>109</td>\n",
              "      <td>16,000</td>\n",
              "      <td>10,379</td>\n",
              "      <td>5,621</td>\n",
              "    </tr>\n",
              "  </tbody>\n",
              "</table>\n",
              "</div>\n",
              "      <button class=\"colab-df-convert\" onclick=\"convertToInteractive('df-67f6fda3-91cc-49d5-842d-12c1a1336ceb')\"\n",
              "              title=\"Convert this dataframe to an interactive table.\"\n",
              "              style=\"display:none;\">\n",
              "        \n",
              "  <svg xmlns=\"http://www.w3.org/2000/svg\" height=\"24px\"viewBox=\"0 0 24 24\"\n",
              "       width=\"24px\">\n",
              "    <path d=\"M0 0h24v24H0V0z\" fill=\"none\"/>\n",
              "    <path d=\"M18.56 5.44l.94 2.06.94-2.06 2.06-.94-2.06-.94-.94-2.06-.94 2.06-2.06.94zm-11 1L8.5 8.5l.94-2.06 2.06-.94-2.06-.94L8.5 2.5l-.94 2.06-2.06.94zm10 10l.94 2.06.94-2.06 2.06-.94-2.06-.94-.94-2.06-.94 2.06-2.06.94z\"/><path d=\"M17.41 7.96l-1.37-1.37c-.4-.4-.92-.59-1.43-.59-.52 0-1.04.2-1.43.59L10.3 9.45l-7.72 7.72c-.78.78-.78 2.05 0 2.83L4 21.41c.39.39.9.59 1.41.59.51 0 1.02-.2 1.41-.59l7.78-7.78 2.81-2.81c.8-.78.8-2.07 0-2.86zM5.41 20L4 18.59l7.72-7.72 1.47 1.35L5.41 20z\"/>\n",
              "  </svg>\n",
              "      </button>\n",
              "      \n",
              "  <style>\n",
              "    .colab-df-container {\n",
              "      display:flex;\n",
              "      flex-wrap:wrap;\n",
              "      gap: 12px;\n",
              "    }\n",
              "\n",
              "    .colab-df-convert {\n",
              "      background-color: #E8F0FE;\n",
              "      border: none;\n",
              "      border-radius: 50%;\n",
              "      cursor: pointer;\n",
              "      display: none;\n",
              "      fill: #1967D2;\n",
              "      height: 32px;\n",
              "      padding: 0 0 0 0;\n",
              "      width: 32px;\n",
              "    }\n",
              "\n",
              "    .colab-df-convert:hover {\n",
              "      background-color: #E2EBFA;\n",
              "      box-shadow: 0px 1px 2px rgba(60, 64, 67, 0.3), 0px 1px 3px 1px rgba(60, 64, 67, 0.15);\n",
              "      fill: #174EA6;\n",
              "    }\n",
              "\n",
              "    [theme=dark] .colab-df-convert {\n",
              "      background-color: #3B4455;\n",
              "      fill: #D2E3FC;\n",
              "    }\n",
              "\n",
              "    [theme=dark] .colab-df-convert:hover {\n",
              "      background-color: #434B5C;\n",
              "      box-shadow: 0px 1px 3px 1px rgba(0, 0, 0, 0.15);\n",
              "      filter: drop-shadow(0px 1px 2px rgba(0, 0, 0, 0.3));\n",
              "      fill: #FFFFFF;\n",
              "    }\n",
              "  </style>\n",
              "\n",
              "      <script>\n",
              "        const buttonEl =\n",
              "          document.querySelector('#df-67f6fda3-91cc-49d5-842d-12c1a1336ceb button.colab-df-convert');\n",
              "        buttonEl.style.display =\n",
              "          google.colab.kernel.accessAllowed ? 'block' : 'none';\n",
              "\n",
              "        async function convertToInteractive(key) {\n",
              "          const element = document.querySelector('#df-67f6fda3-91cc-49d5-842d-12c1a1336ceb');\n",
              "          const dataTable =\n",
              "            await google.colab.kernel.invokeFunction('convertToInteractive',\n",
              "                                                     [key], {});\n",
              "          if (!dataTable) return;\n",
              "\n",
              "          const docLinkHtml = 'Like what you see? Visit the ' +\n",
              "            '<a target=\"_blank\" href=https://colab.research.google.com/notebooks/data_table.ipynb>data table notebook</a>'\n",
              "            + ' to learn more about interactive tables.';\n",
              "          element.innerHTML = '';\n",
              "          dataTable['output_type'] = 'display_data';\n",
              "          await google.colab.output.renderOutput(dataTable, element);\n",
              "          const docLink = document.createElement('div');\n",
              "          docLink.innerHTML = docLinkHtml;\n",
              "          element.appendChild(docLink);\n",
              "        }\n",
              "      </script>\n",
              "    </div>\n",
              "  </div>\n",
              "  "
            ]
          },
          "metadata": {},
          "execution_count": 3
        }
      ]
    },
    {
      "cell_type": "code",
      "source": [
        "df.shape"
      ],
      "metadata": {
        "id": "vwibQ1rvowvf",
        "colab": {
          "base_uri": "https://localhost:8080/"
        },
        "outputId": "2d07f9f3-8249-4b8d-ee8d-9428986741c4"
      },
      "execution_count": 4,
      "outputs": [
        {
          "output_type": "execute_result",
          "data": {
            "text/plain": [
              "(197, 11)"
            ]
          },
          "metadata": {},
          "execution_count": 4
        }
      ]
    },
    {
      "cell_type": "code",
      "source": [
        "# Remove commas from the strings and convert to int\n",
        "df['CP'] = df['CP'].str.replace(',', '').astype(int)\n",
        "df['Profit'] = df['Profit'].str.replace(',', '').astype(int)\n",
        "\n",
        "# Convert float column to object\n",
        "df['Size'] = df['Size'].astype(object)\n",
        "\n",
        "df.info()"
      ],
      "metadata": {
        "colab": {
          "base_uri": "https://localhost:8080/"
        },
        "id": "nueecYI5B6Of",
        "outputId": "16ad6cfb-b9a1-496d-fd9f-33f404bb7084"
      },
      "execution_count": 5,
      "outputs": [
        {
          "output_type": "stream",
          "name": "stdout",
          "text": [
            "<class 'pandas.core.frame.DataFrame'>\n",
            "RangeIndex: 197 entries, 0 to 196\n",
            "Data columns (total 11 columns):\n",
            " #   Column       Non-Null Count  Dtype \n",
            "---  ------       --------------  ----- \n",
            " 0   Date         197 non-null    object\n",
            " 1   Name         197 non-null    object\n",
            " 2   Source       197 non-null    object\n",
            " 3   Location     189 non-null    object\n",
            " 4   Av/OO        197 non-null    object\n",
            " 5   Qty          197 non-null    int64 \n",
            " 6   Size         190 non-null    object\n",
            " 7   Description  196 non-null    object\n",
            " 8   SP           197 non-null    object\n",
            " 9   CP           197 non-null    int64 \n",
            " 10  Profit       197 non-null    int64 \n",
            "dtypes: int64(3), object(8)\n",
            "memory usage: 17.1+ KB\n"
          ]
        }
      ]
    },
    {
      "cell_type": "markdown",
      "source": [
        "**Exploratory Data Analysis**"
      ],
      "metadata": {
        "id": "6XYrX0L-YeAG"
      }
    },
    {
      "cell_type": "code",
      "source": [
        "# pie-chart\n",
        "\n",
        "brand = df['Description'].value_counts()\n",
        "plt.pie(brand, labels = brand.index, autopct = '%0.0f%%')\n",
        "\n",
        "plt.show()"
      ],
      "metadata": {
        "colab": {
          "base_uri": "https://localhost:8080/",
          "height": 406
        },
        "id": "CJ-6bWe0Dhgr",
        "outputId": "50e2a9e5-3112-4605-d467-1e31812a8cad"
      },
      "execution_count": 6,
      "outputs": [
        {
          "output_type": "display_data",
          "data": {
            "text/plain": [
              "<Figure size 640x480 with 1 Axes>"
            ],
            "image/png": "[encoded data removed]"
          },
          "metadata": {}
        }
      ]
    },
    {
      "cell_type": "markdown",
      "source": [
        "Illustrated by the diagram above, the top 5 most sold items are as follows :\n",
        "* 114\n",
        "* 116\n",
        "* 109\n",
        "* LIG\n",
        "* 101\n",
        "* 103\n",
        "\n",
        "NB: This month, the last three items sold at the same rate."
      ],
      "metadata": {
        "id": "iM-VHWrJZwEu"
      }
    },
    {
      "cell_type": "code",
      "source": [
        "# Numbers sold by each brand\n",
        "\n",
        "df['Description'].value_counts()"
      ],
      "metadata": {
        "colab": {
          "base_uri": "https://localhost:8080/"
        },
        "id": "lEmgUdjbDrjg",
        "outputId": "ffbd86bd-913e-4be3-c7d8-4e756efb3f9d"
      },
      "execution_count": 7,
      "outputs": [
        {
          "output_type": "execute_result",
          "data": {
            "text/plain": [
              "114    30\n",
              "116    30\n",
              "109    27\n",
              "LIG    14\n",
              "101    13\n",
              "103    13\n",
              "119    11\n",
              "105    10\n",
              "102     8\n",
              "106     6\n",
              "118     6\n",
              "104     6\n",
              "108     5\n",
              "115     3\n",
              "112     3\n",
              "123     3\n",
              "117     2\n",
              "122     1\n",
              "107     1\n",
              "121     1\n",
              "111     1\n",
              "120     1\n",
              "124     1\n",
              "Name: Description, dtype: int64"
            ]
          },
          "metadata": {},
          "execution_count": 7
        }
      ]
    },
    {
      "cell_type": "markdown",
      "source": [
        "Further information on the top 5 most sold items by the information above:\n",
        "\n",
        "* 114 - 30 pairs were sold\n",
        "* 116 - 30 pairs were sold\n",
        "* 109 - 27 pairs were sold\n",
        "* LIG - 14 pairs were sold\n",
        "* 101 - 13 pairs were sold\n",
        "* 103 - 13 pairs were sold"
      ],
      "metadata": {
        "id": "YxEV1ol4bCrr"
      }
    },
    {
      "cell_type": "code",
      "source": [
        "# bar chart\n",
        "brand = df['Description'].value_counts()\n",
        "\n",
        "plt.figure(figsize=(10, 6))\n",
        "sns.countplot(data=df, x='Description')\n",
        "\n",
        "plt.xlabel('Brand')\n",
        "plt.ylabel('Count')\n",
        "plt.title('Brand Counts')\n",
        "\n",
        "plt.xticks(rotation=90)\n",
        "plt.show()"
      ],
      "metadata": {
        "colab": {
          "base_uri": "https://localhost:8080/",
          "height": 577
        },
        "id": "GmRhkqt7DvxH",
        "outputId": "8d47118c-a24b-47fe-fa17-cc7112f8347f"
      },
      "execution_count": 8,
      "outputs": [
        {
          "output_type": "display_data",
          "data": {
            "text/plain": [
              "<Figure size 1000x600 with 1 Axes>"
            ],
            "image/png": "[encoded data removed]"
          },
          "metadata": {}
        }
      ]
    },
    {
      "cell_type": "code",
      "source": [
        "# Numbers sold in sizes\n",
        "\n",
        "count = df['Size'].value_counts()\n",
        "print(count)"
      ],
      "metadata": {
        "colab": {
          "base_uri": "https://localhost:8080/"
        },
        "id": "_PjWWt0TD3Z0",
        "outputId": "a941ae5f-3a27-44f5-bfa6-a3521a89eb70"
      },
      "execution_count": 9,
      "outputs": [
        {
          "output_type": "stream",
          "name": "stdout",
          "text": [
            "43.0    51\n",
            "45.0    42\n",
            "42.0    32\n",
            "44.0    29\n",
            "46.0    22\n",
            "41.0     6\n",
            "47.0     5\n",
            "48.0     2\n",
            "40.0     1\n",
            "Name: Size, dtype: int64\n"
          ]
        }
      ]
    },
    {
      "cell_type": "markdown",
      "source": [
        "The top 3 most sold items in terms of sizes are:\n",
        "\n",
        "* 43\n",
        "* 45\n",
        "* 42"
      ],
      "metadata": {
        "id": "7HwgIruicS5V"
      }
    },
    {
      "cell_type": "code",
      "source": [
        "# bar chart\n",
        "brand = df['Size'].value_counts()\n",
        "\n",
        "plt.figure(figsize=(10, 6))\n",
        "sns.countplot(data=df, x='Size')\n",
        "\n",
        "plt.xlabel('Size')\n",
        "plt.ylabel('Count')\n",
        "plt.title('Size Counts')\n",
        "\n",
        "plt.xticks(rotation=90)\n",
        "plt.show()"
      ],
      "metadata": {
        "id": "W6OpLdq_EWLT",
        "colab": {
          "base_uri": "https://localhost:8080/",
          "height": 581
        },
        "outputId": "c268951d-a115-4375-eb94-210de6d56f8c"
      },
      "execution_count": 16,
      "outputs": [
        {
          "output_type": "display_data",
          "data": {
            "text/plain": [
              "<Figure size 1000x600 with 1 Axes>"
            ],
            "image/png": "[encoded data removed]"
          },
          "metadata": {}
        }
      ]
    },
    {
      "cell_type": "code",
      "source": [
        "# Inventory availability\n",
        "\n",
        "count = df['Av/OO'].value_counts()\n",
        "print(count)"
      ],
      "metadata": {
        "colab": {
          "base_uri": "https://localhost:8080/"
        },
        "id": "mPv4sPCeECQe",
        "outputId": "a00a52fe-ccc8-40bf-d947-505e8c4d38bd"
      },
      "execution_count": 10,
      "outputs": [
        {
          "output_type": "stream",
          "name": "stdout",
          "text": [
            "OO    115\n",
            "Av     82\n",
            "Name: Av/OO, dtype: int64\n"
          ]
        }
      ]
    },
    {
      "cell_type": "code",
      "source": [
        "count = df['Source'].value_counts()\n",
        "print(count)"
      ],
      "metadata": {
        "colab": {
          "base_uri": "https://localhost:8080/"
        },
        "id": "S-436j55FeB3",
        "outputId": "23659685-2ee8-40a3-d929-7eece286eeab"
      },
      "execution_count": 11,
      "outputs": [
        {
          "output_type": "stream",
          "name": "stdout",
          "text": [
            "IG    147\n",
            "WA     50\n",
            "Name: Source, dtype: int64\n"
          ]
        }
      ]
    },
    {
      "cell_type": "code",
      "source": [
        "# total sum of sold items\n",
        "\n",
        "df['Qty'].sum()"
      ],
      "metadata": {
        "colab": {
          "base_uri": "https://localhost:8080/"
        },
        "id": "EtihBlr0EIKU",
        "outputId": "fb4b8ab9-d6b5-4e40-978f-aacf52d30e81"
      },
      "execution_count": 12,
      "outputs": [
        {
          "output_type": "execute_result",
          "data": {
            "text/plain": [
              "206"
            ]
          },
          "metadata": {},
          "execution_count": 12
        }
      ]
    },
    {
      "cell_type": "markdown",
      "source": [
        "The month of June recorded a total sale of 206 items"
      ],
      "metadata": {
        "id": "Xn5wpygEgrCf"
      }
    },
    {
      "cell_type": "code",
      "source": [
        "# total cost production\n",
        "\n",
        "df['CP'].sum()"
      ],
      "metadata": {
        "colab": {
          "base_uri": "https://localhost:8080/"
        },
        "id": "Qv_P31u4EQ0j",
        "outputId": "1e08fd53-3472-4d68-acd4-589d0fce156f"
      },
      "execution_count": 13,
      "outputs": [
        {
          "output_type": "execute_result",
          "data": {
            "text/plain": [
              "2301102"
            ]
          },
          "metadata": {},
          "execution_count": 13
        }
      ]
    },
    {
      "cell_type": "markdown",
      "source": [
        "The Total Cost Production of sold items in the month of June is N2,301,102"
      ],
      "metadata": {
        "id": "4B3CVBPLg1Qz"
      }
    },
    {
      "cell_type": "code",
      "source": [
        "# total profit realized\n",
        "\n",
        "df['Profit'].sum()"
      ],
      "metadata": {
        "colab": {
          "base_uri": "https://localhost:8080/"
        },
        "id": "otpORHatEUJS",
        "outputId": "aa73dd4d-6ec8-4507-8903-af41346fd4e0"
      },
      "execution_count": 14,
      "outputs": [
        {
          "output_type": "execute_result",
          "data": {
            "text/plain": [
              "1353245"
            ]
          },
          "metadata": {},
          "execution_count": 14
        }
      ]
    },
    {
      "cell_type": "markdown",
      "source": [
        "Total Profit realized in the month of June is N1,353,245"
      ],
      "metadata": {
        "id": "E9YHfzTAhBLs"
      }
    },
    {
      "cell_type": "markdown",
      "source": [
        "Recommendations\n",
        "* Given the statistics of the top 3 most sold items in sizes, items should be in stock in the order of the top 5 most sold items.\n",
        "* Awareness of items that needs more marketing ads performance and needs to maintain its marketing ads performance.\n",
        "* Improve inventory availability, maintain and improve marketing ads performance to increase quantity sales and meet up demands in terms of production time."
      ],
      "metadata": {
        "id": "g-fK2i9fdwnn"
      }
    }
  ]
}